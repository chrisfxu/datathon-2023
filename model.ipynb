{
 "cells": [
  {
   "cell_type": "code",
   "execution_count": 184,
   "id": "fdcd0fee",
   "metadata": {},
   "outputs": [],
   "source": [
    "import numpy as np\n",
    "import pandas as pd\n",
    "import os\n",
    "from sklearn.linear_model import LinearRegression\n",
    "from sklearn.metrics import mean_squared_error\n",
    "from sklearn.ensemble import RandomForestRegressor\n",
    "from sklearn.linear_model import BayesianRidge\n",
    "import matplotlib.pyplot as plt\n",
    "import torch\n",
    "from torch import nn\n",
    "import torch.optim as optim\n",
    "from sklearn.metrics import mean_squared_error"
   ]
  },
  {
   "cell_type": "code",
   "execution_count": 228,
   "id": "dbcff1bd",
   "metadata": {},
   "outputs": [
    {
     "data": {
      "text/html": [
       "<div>\n",
       "<style scoped>\n",
       "    .dataframe tbody tr th:only-of-type {\n",
       "        vertical-align: middle;\n",
       "    }\n",
       "\n",
       "    .dataframe tbody tr th {\n",
       "        vertical-align: top;\n",
       "    }\n",
       "\n",
       "    .dataframe thead th {\n",
       "        text-align: right;\n",
       "    }\n",
       "</style>\n",
       "<table border=\"1\" class=\"dataframe\">\n",
       "  <thead>\n",
       "    <tr style=\"text-align: right;\">\n",
       "      <th></th>\n",
       "      <th>Patient</th>\n",
       "      <th>Weeks</th>\n",
       "      <th>FVC</th>\n",
       "      <th>Percent</th>\n",
       "      <th>Age</th>\n",
       "      <th>Sex</th>\n",
       "      <th>SmokingStatus</th>\n",
       "      <th>FVCLag</th>\n",
       "      <th>PercentLag</th>\n",
       "    </tr>\n",
       "  </thead>\n",
       "  <tbody>\n",
       "    <tr>\n",
       "      <th>1</th>\n",
       "      <td>ID00007637202177411956430</td>\n",
       "      <td>5</td>\n",
       "      <td>2214</td>\n",
       "      <td>55.712129</td>\n",
       "      <td>79</td>\n",
       "      <td>Male</td>\n",
       "      <td>Ex-smoker</td>\n",
       "      <td>2315.0</td>\n",
       "      <td>58.253649</td>\n",
       "    </tr>\n",
       "    <tr>\n",
       "      <th>2</th>\n",
       "      <td>ID00007637202177411956430</td>\n",
       "      <td>7</td>\n",
       "      <td>2061</td>\n",
       "      <td>51.862104</td>\n",
       "      <td>79</td>\n",
       "      <td>Male</td>\n",
       "      <td>Ex-smoker</td>\n",
       "      <td>2214.0</td>\n",
       "      <td>55.712129</td>\n",
       "    </tr>\n",
       "    <tr>\n",
       "      <th>3</th>\n",
       "      <td>ID00007637202177411956430</td>\n",
       "      <td>9</td>\n",
       "      <td>2144</td>\n",
       "      <td>53.950679</td>\n",
       "      <td>79</td>\n",
       "      <td>Male</td>\n",
       "      <td>Ex-smoker</td>\n",
       "      <td>2061.0</td>\n",
       "      <td>51.862104</td>\n",
       "    </tr>\n",
       "    <tr>\n",
       "      <th>4</th>\n",
       "      <td>ID00007637202177411956430</td>\n",
       "      <td>11</td>\n",
       "      <td>2069</td>\n",
       "      <td>52.063412</td>\n",
       "      <td>79</td>\n",
       "      <td>Male</td>\n",
       "      <td>Ex-smoker</td>\n",
       "      <td>2144.0</td>\n",
       "      <td>53.950679</td>\n",
       "    </tr>\n",
       "    <tr>\n",
       "      <th>5</th>\n",
       "      <td>ID00007637202177411956430</td>\n",
       "      <td>17</td>\n",
       "      <td>2101</td>\n",
       "      <td>52.868646</td>\n",
       "      <td>79</td>\n",
       "      <td>Male</td>\n",
       "      <td>Ex-smoker</td>\n",
       "      <td>2069.0</td>\n",
       "      <td>52.063412</td>\n",
       "    </tr>\n",
       "    <tr>\n",
       "      <th>...</th>\n",
       "      <td>...</td>\n",
       "      <td>...</td>\n",
       "      <td>...</td>\n",
       "      <td>...</td>\n",
       "      <td>...</td>\n",
       "      <td>...</td>\n",
       "      <td>...</td>\n",
       "      <td>...</td>\n",
       "      <td>...</td>\n",
       "    </tr>\n",
       "    <tr>\n",
       "      <th>1544</th>\n",
       "      <td>ID00426637202313170790466</td>\n",
       "      <td>13</td>\n",
       "      <td>2712</td>\n",
       "      <td>66.594637</td>\n",
       "      <td>73</td>\n",
       "      <td>Male</td>\n",
       "      <td>Never smoked</td>\n",
       "      <td>2976.0</td>\n",
       "      <td>73.077301</td>\n",
       "    </tr>\n",
       "    <tr>\n",
       "      <th>1545</th>\n",
       "      <td>ID00426637202313170790466</td>\n",
       "      <td>19</td>\n",
       "      <td>2978</td>\n",
       "      <td>73.126412</td>\n",
       "      <td>73</td>\n",
       "      <td>Male</td>\n",
       "      <td>Never smoked</td>\n",
       "      <td>2712.0</td>\n",
       "      <td>66.594637</td>\n",
       "    </tr>\n",
       "    <tr>\n",
       "      <th>1546</th>\n",
       "      <td>ID00426637202313170790466</td>\n",
       "      <td>31</td>\n",
       "      <td>2908</td>\n",
       "      <td>71.407524</td>\n",
       "      <td>73</td>\n",
       "      <td>Male</td>\n",
       "      <td>Never smoked</td>\n",
       "      <td>2978.0</td>\n",
       "      <td>73.126412</td>\n",
       "    </tr>\n",
       "    <tr>\n",
       "      <th>1547</th>\n",
       "      <td>ID00426637202313170790466</td>\n",
       "      <td>43</td>\n",
       "      <td>2975</td>\n",
       "      <td>73.052745</td>\n",
       "      <td>73</td>\n",
       "      <td>Male</td>\n",
       "      <td>Never smoked</td>\n",
       "      <td>2908.0</td>\n",
       "      <td>71.407524</td>\n",
       "    </tr>\n",
       "    <tr>\n",
       "      <th>1548</th>\n",
       "      <td>ID00426637202313170790466</td>\n",
       "      <td>59</td>\n",
       "      <td>2774</td>\n",
       "      <td>68.117081</td>\n",
       "      <td>73</td>\n",
       "      <td>Male</td>\n",
       "      <td>Never smoked</td>\n",
       "      <td>2975.0</td>\n",
       "      <td>73.052745</td>\n",
       "    </tr>\n",
       "  </tbody>\n",
       "</table>\n",
       "<p>1373 rows × 9 columns</p>\n",
       "</div>"
      ],
      "text/plain": [
       "                        Patient  Weeks   FVC    Percent  Age   Sex  \\\n",
       "1     ID00007637202177411956430      5  2214  55.712129   79  Male   \n",
       "2     ID00007637202177411956430      7  2061  51.862104   79  Male   \n",
       "3     ID00007637202177411956430      9  2144  53.950679   79  Male   \n",
       "4     ID00007637202177411956430     11  2069  52.063412   79  Male   \n",
       "5     ID00007637202177411956430     17  2101  52.868646   79  Male   \n",
       "...                         ...    ...   ...        ...  ...   ...   \n",
       "1544  ID00426637202313170790466     13  2712  66.594637   73  Male   \n",
       "1545  ID00426637202313170790466     19  2978  73.126412   73  Male   \n",
       "1546  ID00426637202313170790466     31  2908  71.407524   73  Male   \n",
       "1547  ID00426637202313170790466     43  2975  73.052745   73  Male   \n",
       "1548  ID00426637202313170790466     59  2774  68.117081   73  Male   \n",
       "\n",
       "     SmokingStatus  FVCLag  PercentLag  \n",
       "1        Ex-smoker  2315.0   58.253649  \n",
       "2        Ex-smoker  2214.0   55.712129  \n",
       "3        Ex-smoker  2061.0   51.862104  \n",
       "4        Ex-smoker  2144.0   53.950679  \n",
       "5        Ex-smoker  2069.0   52.063412  \n",
       "...            ...     ...         ...  \n",
       "1544  Never smoked  2976.0   73.077301  \n",
       "1545  Never smoked  2712.0   66.594637  \n",
       "1546  Never smoked  2978.0   73.126412  \n",
       "1547  Never smoked  2908.0   71.407524  \n",
       "1548  Never smoked  2975.0   73.052745  \n",
       "\n",
       "[1373 rows x 9 columns]"
      ]
     },
     "execution_count": 228,
     "metadata": {},
     "output_type": "execute_result"
    }
   ],
   "source": [
    "train = pd.read_csv('data/train.csv')\n",
    "train['FVCLag'] = train.FVC.shift(1)\n",
    "train['PercentLag'] = train.Percent.shift(1)\n",
    "\n",
    "uq = set()\n",
    "\n",
    "for index, row in train.iterrows():\n",
    "    if row['Patient'] not in uq:\n",
    "        uq.add(row['Patient'])\n",
    "        train.drop(index, axis=0, inplace=True)"
   ]
  },
  {
   "cell_type": "code",
   "execution_count": 229,
   "id": "0866ca28",
   "metadata": {},
   "outputs": [
    {
     "data": {
      "text/html": [
       "<div>\n",
       "<style scoped>\n",
       "    .dataframe tbody tr th:only-of-type {\n",
       "        vertical-align: middle;\n",
       "    }\n",
       "\n",
       "    .dataframe tbody tr th {\n",
       "        vertical-align: top;\n",
       "    }\n",
       "\n",
       "    .dataframe thead th {\n",
       "        text-align: right;\n",
       "    }\n",
       "</style>\n",
       "<table border=\"1\" class=\"dataframe\">\n",
       "  <thead>\n",
       "    <tr style=\"text-align: right;\">\n",
       "      <th></th>\n",
       "      <th>Weeks</th>\n",
       "      <th>Age</th>\n",
       "      <th>Sex</th>\n",
       "      <th>SmokingStatus</th>\n",
       "      <th>FVCLag</th>\n",
       "      <th>PercentLag</th>\n",
       "    </tr>\n",
       "  </thead>\n",
       "  <tbody>\n",
       "    <tr>\n",
       "      <th>1</th>\n",
       "      <td>5</td>\n",
       "      <td>79</td>\n",
       "      <td>1</td>\n",
       "      <td>1</td>\n",
       "      <td>2315.0</td>\n",
       "      <td>58.253649</td>\n",
       "    </tr>\n",
       "    <tr>\n",
       "      <th>2</th>\n",
       "      <td>7</td>\n",
       "      <td>79</td>\n",
       "      <td>1</td>\n",
       "      <td>1</td>\n",
       "      <td>2214.0</td>\n",
       "      <td>55.712129</td>\n",
       "    </tr>\n",
       "    <tr>\n",
       "      <th>3</th>\n",
       "      <td>9</td>\n",
       "      <td>79</td>\n",
       "      <td>1</td>\n",
       "      <td>1</td>\n",
       "      <td>2061.0</td>\n",
       "      <td>51.862104</td>\n",
       "    </tr>\n",
       "    <tr>\n",
       "      <th>4</th>\n",
       "      <td>11</td>\n",
       "      <td>79</td>\n",
       "      <td>1</td>\n",
       "      <td>1</td>\n",
       "      <td>2144.0</td>\n",
       "      <td>53.950679</td>\n",
       "    </tr>\n",
       "    <tr>\n",
       "      <th>5</th>\n",
       "      <td>17</td>\n",
       "      <td>79</td>\n",
       "      <td>1</td>\n",
       "      <td>1</td>\n",
       "      <td>2069.0</td>\n",
       "      <td>52.063412</td>\n",
       "    </tr>\n",
       "  </tbody>\n",
       "</table>\n",
       "</div>"
      ],
      "text/plain": [
       "   Weeks  Age  Sex  SmokingStatus  FVCLag  PercentLag\n",
       "1      5   79    1              1  2315.0   58.253649\n",
       "2      7   79    1              1  2214.0   55.712129\n",
       "3      9   79    1              1  2061.0   51.862104\n",
       "4     11   79    1              1  2144.0   53.950679\n",
       "5     17   79    1              1  2069.0   52.063412"
      ]
     },
     "execution_count": 229,
     "metadata": {},
     "output_type": "execute_result"
    }
   ],
   "source": [
    "y = train[\"FVC\"]\n",
    "X = train.copy()\n",
    "X=X.drop(columns = [\"FVC\", \"Patient\", \"Percent\"])\n",
    "X['Sex'] = X['Sex'].map(lambda x: 1 if(x == \"Male\") else 0 )\n",
    "X['SmokingStatus'] = X['SmokingStatus'].map(lambda x: 1 if(x == \"Ex-smoker\") else 0 )\n",
    "X.head()"
   ]
  },
  {
   "cell_type": "code",
   "execution_count": 230,
   "id": "3c8dfb1f",
   "metadata": {},
   "outputs": [
    {
     "data": {
      "text/html": [
       "<style>#sk-container-id-7 {color: black;background-color: white;}#sk-container-id-7 pre{padding: 0;}#sk-container-id-7 div.sk-toggleable {background-color: white;}#sk-container-id-7 label.sk-toggleable__label {cursor: pointer;display: block;width: 100%;margin-bottom: 0;padding: 0.3em;box-sizing: border-box;text-align: center;}#sk-container-id-7 label.sk-toggleable__label-arrow:before {content: \"▸\";float: left;margin-right: 0.25em;color: #696969;}#sk-container-id-7 label.sk-toggleable__label-arrow:hover:before {color: black;}#sk-container-id-7 div.sk-estimator:hover label.sk-toggleable__label-arrow:before {color: black;}#sk-container-id-7 div.sk-toggleable__content {max-height: 0;max-width: 0;overflow: hidden;text-align: left;background-color: #f0f8ff;}#sk-container-id-7 div.sk-toggleable__content pre {margin: 0.2em;color: black;border-radius: 0.25em;background-color: #f0f8ff;}#sk-container-id-7 input.sk-toggleable__control:checked~div.sk-toggleable__content {max-height: 200px;max-width: 100%;overflow: auto;}#sk-container-id-7 input.sk-toggleable__control:checked~label.sk-toggleable__label-arrow:before {content: \"▾\";}#sk-container-id-7 div.sk-estimator input.sk-toggleable__control:checked~label.sk-toggleable__label {background-color: #d4ebff;}#sk-container-id-7 div.sk-label input.sk-toggleable__control:checked~label.sk-toggleable__label {background-color: #d4ebff;}#sk-container-id-7 input.sk-hidden--visually {border: 0;clip: rect(1px 1px 1px 1px);clip: rect(1px, 1px, 1px, 1px);height: 1px;margin: -1px;overflow: hidden;padding: 0;position: absolute;width: 1px;}#sk-container-id-7 div.sk-estimator {font-family: monospace;background-color: #f0f8ff;border: 1px dotted black;border-radius: 0.25em;box-sizing: border-box;margin-bottom: 0.5em;}#sk-container-id-7 div.sk-estimator:hover {background-color: #d4ebff;}#sk-container-id-7 div.sk-parallel-item::after {content: \"\";width: 100%;border-bottom: 1px solid gray;flex-grow: 1;}#sk-container-id-7 div.sk-label:hover label.sk-toggleable__label {background-color: #d4ebff;}#sk-container-id-7 div.sk-serial::before {content: \"\";position: absolute;border-left: 1px solid gray;box-sizing: border-box;top: 0;bottom: 0;left: 50%;z-index: 0;}#sk-container-id-7 div.sk-serial {display: flex;flex-direction: column;align-items: center;background-color: white;padding-right: 0.2em;padding-left: 0.2em;position: relative;}#sk-container-id-7 div.sk-item {position: relative;z-index: 1;}#sk-container-id-7 div.sk-parallel {display: flex;align-items: stretch;justify-content: center;background-color: white;position: relative;}#sk-container-id-7 div.sk-item::before, #sk-container-id-7 div.sk-parallel-item::before {content: \"\";position: absolute;border-left: 1px solid gray;box-sizing: border-box;top: 0;bottom: 0;left: 50%;z-index: -1;}#sk-container-id-7 div.sk-parallel-item {display: flex;flex-direction: column;z-index: 1;position: relative;background-color: white;}#sk-container-id-7 div.sk-parallel-item:first-child::after {align-self: flex-end;width: 50%;}#sk-container-id-7 div.sk-parallel-item:last-child::after {align-self: flex-start;width: 50%;}#sk-container-id-7 div.sk-parallel-item:only-child::after {width: 0;}#sk-container-id-7 div.sk-dashed-wrapped {border: 1px dashed gray;margin: 0 0.4em 0.5em 0.4em;box-sizing: border-box;padding-bottom: 0.4em;background-color: white;}#sk-container-id-7 div.sk-label label {font-family: monospace;font-weight: bold;display: inline-block;line-height: 1.2em;}#sk-container-id-7 div.sk-label-container {text-align: center;}#sk-container-id-7 div.sk-container {/* jupyter's `normalize.less` sets `[hidden] { display: none; }` but bootstrap.min.css set `[hidden] { display: none !important; }` so we also need the `!important` here to be able to override the default hidden behavior on the sphinx rendered scikit-learn.org. See: https://github.com/scikit-learn/scikit-learn/issues/21755 */display: inline-block !important;position: relative;}#sk-container-id-7 div.sk-text-repr-fallback {display: none;}</style><div id=\"sk-container-id-7\" class=\"sk-top-container\"><div class=\"sk-text-repr-fallback\"><pre>RandomForestRegressor(n_estimators=250, random_state=0)</pre><b>In a Jupyter environment, please rerun this cell to show the HTML representation or trust the notebook. <br />On GitHub, the HTML representation is unable to render, please try loading this page with nbviewer.org.</b></div><div class=\"sk-container\" hidden><div class=\"sk-item\"><div class=\"sk-estimator sk-toggleable\"><input class=\"sk-toggleable__control sk-hidden--visually\" id=\"sk-estimator-id-7\" type=\"checkbox\" checked><label for=\"sk-estimator-id-7\" class=\"sk-toggleable__label sk-toggleable__label-arrow\">RandomForestRegressor</label><div class=\"sk-toggleable__content\"><pre>RandomForestRegressor(n_estimators=250, random_state=0)</pre></div></div></div></div></div>"
      ],
      "text/plain": [
       "RandomForestRegressor(n_estimators=250, random_state=0)"
      ]
     },
     "execution_count": 230,
     "metadata": {},
     "output_type": "execute_result"
    }
   ],
   "source": [
    "regressor = RandomForestRegressor(n_estimators=250, random_state=0)\n",
    "regressor.fit(X,y)"
   ]
  },
  {
   "cell_type": "code",
   "execution_count": 231,
   "id": "2d8436eb",
   "metadata": {},
   "outputs": [
    {
     "data": {
      "text/plain": [
       "<matplotlib.collections.PathCollection at 0x2907ac450>"
      ]
     },
     "execution_count": 231,
     "metadata": {},
     "output_type": "execute_result"
    },
    {
     "data": {
      "image/png": "[encoded data removed]",
      "text/plain": [
       "<Figure size 640x480 with 1 Axes>"
      ]
     },
     "metadata": {},
     "output_type": "display_data"
    }
   ],
   "source": [
    "plt.scatter(X[\"Age\"], y, color = 'blue') \n"
   ]
  },
  {
   "cell_type": "code",
   "execution_count": 232,
   "id": "af92a457",
   "metadata": {},
   "outputs": [
    {
     "data": {
      "text/plain": [
       "<matplotlib.collections.PathCollection at 0x2907d4450>"
      ]
     },
     "execution_count": 232,
     "metadata": {},
     "output_type": "execute_result"
    },
    {
     "data": {
      "image/png": "[encoded data removed]",
      "text/plain": [
       "<Figure size 640x480 with 1 Axes>"
      ]
     },
     "metadata": {},
     "output_type": "display_data"
    }
   ],
   "source": [
    "plt.scatter(X[\"Age\"], regressor.predict(X), color=\"blue\")"
   ]
  },
  {
   "cell_type": "code",
   "execution_count": 233,
   "id": "d249ec64",
   "metadata": {},
   "outputs": [
    {
     "data": {
      "text/plain": [
       "array([2225.   , 2141.04 , 2120.736, ..., 2862.528, 2929.796, 2815.468])"
      ]
     },
     "execution_count": 233,
     "metadata": {},
     "output_type": "execute_result"
    }
   ],
   "source": [
    "regressor.predict(X)"
   ]
  },
  {
   "cell_type": "code",
   "execution_count": 234,
   "id": "38b78339",
   "metadata": {},
   "outputs": [
    {
     "data": {
      "text/plain": [
       "5210.934710793882"
      ]
     },
     "execution_count": 234,
     "metadata": {},
     "output_type": "execute_result"
    }
   ],
   "source": [
    "mean_squared_error(regressor.predict(X), y)"
   ]
  },
  {
   "cell_type": "code",
   "execution_count": 226,
   "id": "498c6ec7",
   "metadata": {},
   "outputs": [
    {
     "ename": "ValueError",
     "evalue": "Found array with 0 sample(s) (shape=(0, 6)) while a minimum of 1 is required by RandomForestRegressor.",
     "output_type": "error",
     "traceback": [
      "\u001b[0;31m---------------------------------------------------------------------------\u001b[0m",
      "\u001b[0;31mValueError\u001b[0m                                Traceback (most recent call last)",
      "Cell \u001b[0;32mIn [226], line 1\u001b[0m\n\u001b[0;32m----> 1\u001b[0m te \u001b[38;5;241m=\u001b[39m mean_squared_error(\u001b[43mregressor\u001b[49m\u001b[38;5;241;43m.\u001b[39;49m\u001b[43mpredict\u001b[49m\u001b[43m(\u001b[49m\u001b[43mXTe\u001b[49m\u001b[43m)\u001b[49m,yTe)\n\u001b[1;32m      2\u001b[0m te\n",
      "File \u001b[0;32m/Library/Frameworks/Python.framework/Versions/3.11/lib/python3.11/site-packages/sklearn/ensemble/_forest.py:991\u001b[0m, in \u001b[0;36mForestRegressor.predict\u001b[0;34m(self, X)\u001b[0m\n\u001b[1;32m    989\u001b[0m check_is_fitted(\u001b[38;5;28mself\u001b[39m)\n\u001b[1;32m    990\u001b[0m \u001b[38;5;66;03m# Check data\u001b[39;00m\n\u001b[0;32m--> 991\u001b[0m X \u001b[38;5;241m=\u001b[39m \u001b[38;5;28;43mself\u001b[39;49m\u001b[38;5;241;43m.\u001b[39;49m\u001b[43m_validate_X_predict\u001b[49m\u001b[43m(\u001b[49m\u001b[43mX\u001b[49m\u001b[43m)\u001b[49m\n\u001b[1;32m    993\u001b[0m \u001b[38;5;66;03m# Assign chunk of trees to jobs\u001b[39;00m\n\u001b[1;32m    994\u001b[0m n_jobs, _, _ \u001b[38;5;241m=\u001b[39m _partition_estimators(\u001b[38;5;28mself\u001b[39m\u001b[38;5;241m.\u001b[39mn_estimators, \u001b[38;5;28mself\u001b[39m\u001b[38;5;241m.\u001b[39mn_jobs)\n",
      "File \u001b[0;32m/Library/Frameworks/Python.framework/Versions/3.11/lib/python3.11/site-packages/sklearn/ensemble/_forest.py:605\u001b[0m, in \u001b[0;36mBaseForest._validate_X_predict\u001b[0;34m(self, X)\u001b[0m\n\u001b[1;32m    602\u001b[0m \u001b[38;5;124;03m\"\"\"\u001b[39;00m\n\u001b[1;32m    603\u001b[0m \u001b[38;5;124;03mValidate X whenever one tries to predict, apply, predict_proba.\"\"\"\u001b[39;00m\n\u001b[1;32m    604\u001b[0m check_is_fitted(\u001b[38;5;28mself\u001b[39m)\n\u001b[0;32m--> 605\u001b[0m X \u001b[38;5;241m=\u001b[39m \u001b[38;5;28;43mself\u001b[39;49m\u001b[38;5;241;43m.\u001b[39;49m\u001b[43m_validate_data\u001b[49m\u001b[43m(\u001b[49m\u001b[43mX\u001b[49m\u001b[43m,\u001b[49m\u001b[43m \u001b[49m\u001b[43mdtype\u001b[49m\u001b[38;5;241;43m=\u001b[39;49m\u001b[43mDTYPE\u001b[49m\u001b[43m,\u001b[49m\u001b[43m \u001b[49m\u001b[43maccept_sparse\u001b[49m\u001b[38;5;241;43m=\u001b[39;49m\u001b[38;5;124;43m\"\u001b[39;49m\u001b[38;5;124;43mcsr\u001b[39;49m\u001b[38;5;124;43m\"\u001b[39;49m\u001b[43m,\u001b[49m\u001b[43m \u001b[49m\u001b[43mreset\u001b[49m\u001b[38;5;241;43m=\u001b[39;49m\u001b[38;5;28;43;01mFalse\u001b[39;49;00m\u001b[43m)\u001b[49m\n\u001b[1;32m    606\u001b[0m \u001b[38;5;28;01mif\u001b[39;00m issparse(X) \u001b[38;5;129;01mand\u001b[39;00m (X\u001b[38;5;241m.\u001b[39mindices\u001b[38;5;241m.\u001b[39mdtype \u001b[38;5;241m!=\u001b[39m np\u001b[38;5;241m.\u001b[39mintc \u001b[38;5;129;01mor\u001b[39;00m X\u001b[38;5;241m.\u001b[39mindptr\u001b[38;5;241m.\u001b[39mdtype \u001b[38;5;241m!=\u001b[39m np\u001b[38;5;241m.\u001b[39mintc):\n\u001b[1;32m    607\u001b[0m     \u001b[38;5;28;01mraise\u001b[39;00m \u001b[38;5;167;01mValueError\u001b[39;00m(\u001b[38;5;124m\"\u001b[39m\u001b[38;5;124mNo support for np.int64 index based sparse matrices\u001b[39m\u001b[38;5;124m\"\u001b[39m)\n",
      "File \u001b[0;32m/Library/Frameworks/Python.framework/Versions/3.11/lib/python3.11/site-packages/sklearn/base.py:577\u001b[0m, in \u001b[0;36mBaseEstimator._validate_data\u001b[0;34m(self, X, y, reset, validate_separately, **check_params)\u001b[0m\n\u001b[1;32m    575\u001b[0m     \u001b[38;5;28;01mraise\u001b[39;00m \u001b[38;5;167;01mValueError\u001b[39;00m(\u001b[38;5;124m\"\u001b[39m\u001b[38;5;124mValidation should be done on X, y or both.\u001b[39m\u001b[38;5;124m\"\u001b[39m)\n\u001b[1;32m    576\u001b[0m \u001b[38;5;28;01melif\u001b[39;00m \u001b[38;5;129;01mnot\u001b[39;00m no_val_X \u001b[38;5;129;01mand\u001b[39;00m no_val_y:\n\u001b[0;32m--> 577\u001b[0m     X \u001b[38;5;241m=\u001b[39m \u001b[43mcheck_array\u001b[49m\u001b[43m(\u001b[49m\u001b[43mX\u001b[49m\u001b[43m,\u001b[49m\u001b[43m \u001b[49m\u001b[43minput_name\u001b[49m\u001b[38;5;241;43m=\u001b[39;49m\u001b[38;5;124;43m\"\u001b[39;49m\u001b[38;5;124;43mX\u001b[39;49m\u001b[38;5;124;43m\"\u001b[39;49m\u001b[43m,\u001b[49m\u001b[43m \u001b[49m\u001b[38;5;241;43m*\u001b[39;49m\u001b[38;5;241;43m*\u001b[39;49m\u001b[43mcheck_params\u001b[49m\u001b[43m)\u001b[49m\n\u001b[1;32m    578\u001b[0m     out \u001b[38;5;241m=\u001b[39m X\n\u001b[1;32m    579\u001b[0m \u001b[38;5;28;01melif\u001b[39;00m no_val_X \u001b[38;5;129;01mand\u001b[39;00m \u001b[38;5;129;01mnot\u001b[39;00m no_val_y:\n",
      "File \u001b[0;32m/Library/Frameworks/Python.framework/Versions/3.11/lib/python3.11/site-packages/sklearn/utils/validation.py:909\u001b[0m, in \u001b[0;36mcheck_array\u001b[0;34m(array, accept_sparse, accept_large_sparse, dtype, order, copy, force_all_finite, ensure_2d, allow_nd, ensure_min_samples, ensure_min_features, estimator, input_name)\u001b[0m\n\u001b[1;32m    907\u001b[0m     n_samples \u001b[38;5;241m=\u001b[39m _num_samples(array)\n\u001b[1;32m    908\u001b[0m     \u001b[38;5;28;01mif\u001b[39;00m n_samples \u001b[38;5;241m<\u001b[39m ensure_min_samples:\n\u001b[0;32m--> 909\u001b[0m         \u001b[38;5;28;01mraise\u001b[39;00m \u001b[38;5;167;01mValueError\u001b[39;00m(\n\u001b[1;32m    910\u001b[0m             \u001b[38;5;124m\"\u001b[39m\u001b[38;5;124mFound array with \u001b[39m\u001b[38;5;132;01m%d\u001b[39;00m\u001b[38;5;124m sample(s) (shape=\u001b[39m\u001b[38;5;132;01m%s\u001b[39;00m\u001b[38;5;124m) while a\u001b[39m\u001b[38;5;124m\"\u001b[39m\n\u001b[1;32m    911\u001b[0m             \u001b[38;5;124m\"\u001b[39m\u001b[38;5;124m minimum of \u001b[39m\u001b[38;5;132;01m%d\u001b[39;00m\u001b[38;5;124m is required\u001b[39m\u001b[38;5;132;01m%s\u001b[39;00m\u001b[38;5;124m.\u001b[39m\u001b[38;5;124m\"\u001b[39m\n\u001b[1;32m    912\u001b[0m             \u001b[38;5;241m%\u001b[39m (n_samples, array\u001b[38;5;241m.\u001b[39mshape, ensure_min_samples, context)\n\u001b[1;32m    913\u001b[0m         )\n\u001b[1;32m    915\u001b[0m \u001b[38;5;28;01mif\u001b[39;00m ensure_min_features \u001b[38;5;241m>\u001b[39m \u001b[38;5;241m0\u001b[39m \u001b[38;5;129;01mand\u001b[39;00m array\u001b[38;5;241m.\u001b[39mndim \u001b[38;5;241m==\u001b[39m \u001b[38;5;241m2\u001b[39m:\n\u001b[1;32m    916\u001b[0m     n_features \u001b[38;5;241m=\u001b[39m array\u001b[38;5;241m.\u001b[39mshape[\u001b[38;5;241m1\u001b[39m]\n",
      "\u001b[0;31mValueError\u001b[0m: Found array with 0 sample(s) (shape=(0, 6)) while a minimum of 1 is required by RandomForestRegressor."
     ]
    }
   ],
   "source": [
    "te = mean_squared_error(regressor.predict(XTe),yTe)\n",
    "te"
   ]
  },
  {
   "cell_type": "code",
   "execution_count": 118,
   "id": "6440c138",
   "metadata": {},
   "outputs": [],
   "source": [
    "tensor_x = torch.tensor((X['Age'], X['Weeks'], X['Percent'], X['Sex'], X['SmokingStatus'])).to(torch.float).T\n",
    "tensor_y = torch.tensor(y).to(torch.float)\n"
   ]
  },
  {
   "cell_type": "code",
   "execution_count": 180,
   "id": "5f23b02c",
   "metadata": {},
   "outputs": [],
   "source": [
    "model = nn.Sequential(\n",
    "#         nn.Linear(5, 100),\n",
    "#         nn.ReLU(),\n",
    "#         nn.Linear(100, 20),\n",
    "#         nn.ReLU(),\n",
    "#         nn.Linear(20, 1)\n",
    "        nn.Linear(5,1)\n",
    "        )"
   ]
  },
  {
   "cell_type": "code",
   "execution_count": 181,
   "id": "71dbc809",
   "metadata": {},
   "outputs": [
    {
     "name": "stdout",
     "output_type": "stream",
     "text": [
      "epoch 10 loss 71279728.0\n",
      "epoch 20 loss 55198812.0\n",
      "epoch 30 loss 42285668.0\n",
      "epoch 40 loss 33508900.0\n",
      "epoch 50 loss 30631494.0\n",
      "epoch 60 loss 31026762.0\n",
      "epoch 70 loss 30502384.0\n",
      "epoch 80 loss 30543954.0\n",
      "epoch 90 loss 30461410.0\n",
      "epoch 100 loss 30464704.0\n",
      "epoch 110 loss 30452302.0\n",
      "epoch 120 loss 30449988.0\n",
      "epoch 130 loss 30447370.0\n",
      "epoch 140 loss 30445996.0\n",
      "epoch 150 loss 30445194.0\n",
      "epoch 160 loss 30444640.0\n",
      "epoch 170 loss 30444340.0\n",
      "epoch 180 loss 30444150.0\n",
      "epoch 190 loss 30444044.0\n",
      "epoch 200 loss 30443986.0\n",
      "epoch 210 loss 30443956.0\n",
      "epoch 220 loss 30443938.0\n",
      "epoch 230 loss 30443930.0\n",
      "epoch 240 loss 30443926.0\n",
      "epoch 250 loss 30443924.0\n",
      "epoch 260 loss 30443924.0\n",
      "epoch 270 loss 30443920.0\n",
      "epoch 280 loss 30443924.0\n",
      "epoch 290 loss 30443924.0\n",
      "epoch 300 loss 30443924.0\n",
      "epoch 310 loss 30443924.0\n",
      "epoch 320 loss 30443922.0\n",
      "epoch 330 loss 30443922.0\n",
      "epoch 340 loss 30443922.0\n",
      "epoch 350 loss 30443922.0\n",
      "epoch 360 loss 30443922.0\n",
      "epoch 370 loss 30443922.0\n",
      "epoch 380 loss 30443922.0\n",
      "epoch 390 loss 30443922.0\n",
      "epoch 400 loss 30443922.0\n",
      "epoch 410 loss 30443922.0\n",
      "epoch 420 loss 30443922.0\n",
      "epoch 430 loss 30443922.0\n",
      "epoch 440 loss 30443922.0\n",
      "epoch 450 loss 30443922.0\n",
      "epoch 460 loss 30443922.0\n",
      "epoch 470 loss 30443922.0\n",
      "epoch 480 loss 30443922.0\n",
      "epoch 490 loss 30443922.0\n",
      "epoch 500 loss 30443922.0\n",
      "epoch 510 loss 30443922.0\n",
      "epoch 520 loss 30443922.0\n",
      "epoch 530 loss 30443922.0\n",
      "epoch 540 loss 30443922.0\n",
      "epoch 550 loss 30443922.0\n",
      "epoch 560 loss 30443922.0\n",
      "epoch 570 loss 30443922.0\n",
      "epoch 580 loss 30443922.0\n",
      "epoch 590 loss 30443922.0\n",
      "epoch 600 loss 30443922.0\n",
      "epoch 610 loss 30443922.0\n",
      "epoch 620 loss 30443922.0\n",
      "epoch 630 loss 30443922.0\n",
      "epoch 640 loss 30443922.0\n",
      "epoch 650 loss 30443922.0\n",
      "epoch 660 loss 30443922.0\n",
      "epoch 670 loss 30443922.0\n",
      "epoch 680 loss 30443922.0\n",
      "epoch 690 loss 30443922.0\n",
      "epoch 700 loss 30443922.0\n",
      "epoch 710 loss 30443922.0\n",
      "epoch 720 loss 30443922.0\n",
      "epoch 730 loss 30443922.0\n",
      "epoch 740 loss 30443922.0\n",
      "epoch 750 loss 30443922.0\n",
      "epoch 760 loss 30443922.0\n",
      "epoch 770 loss 30443922.0\n",
      "epoch 780 loss 30443922.0\n",
      "epoch 790 loss 30443922.0\n",
      "epoch 800 loss 30443922.0\n",
      "epoch 810 loss 30443922.0\n",
      "epoch 820 loss 30443922.0\n",
      "epoch 830 loss 30443922.0\n",
      "epoch 840 loss 30443922.0\n",
      "epoch 850 loss 30443922.0\n",
      "epoch 860 loss 30443922.0\n",
      "epoch 870 loss 30443922.0\n",
      "epoch 880 loss 30443922.0\n",
      "epoch 890 loss 30443922.0\n",
      "epoch 900 loss 30443922.0\n",
      "epoch 910 loss 30443922.0\n",
      "epoch 920 loss 30443922.0\n",
      "epoch 930 loss 30443922.0\n",
      "epoch 940 loss 30443922.0\n",
      "epoch 950 loss 30443922.0\n",
      "epoch 960 loss 30443922.0\n",
      "epoch 970 loss 30443922.0\n",
      "epoch 980 loss 30443922.0\n",
      "epoch 990 loss 30443922.0\n",
      "epoch 1000 loss 30443922.0\n",
      "epoch 1010 loss 30443922.0\n",
      "epoch 1020 loss 30443922.0\n",
      "epoch 1030 loss 30443922.0\n",
      "epoch 1040 loss 30443922.0\n",
      "epoch 1050 loss 30443922.0\n",
      "epoch 1060 loss 30443922.0\n",
      "epoch 1070 loss 30443922.0\n",
      "epoch 1080 loss 30443924.0\n",
      "epoch 1090 loss 30443922.0\n",
      "epoch 1100 loss 30443922.0\n",
      "epoch 1110 loss 30443922.0\n",
      "epoch 1120 loss 30443922.0\n",
      "epoch 1130 loss 30443922.0\n",
      "epoch 1140 loss 30443924.0\n",
      "epoch 1150 loss 30443922.0\n",
      "epoch 1160 loss 30443922.0\n",
      "epoch 1170 loss 30443922.0\n",
      "epoch 1180 loss 30443922.0\n",
      "epoch 1190 loss 30443922.0\n",
      "epoch 1200 loss 30443922.0\n",
      "epoch 1210 loss 30443922.0\n",
      "epoch 1220 loss 30443922.0\n",
      "epoch 1230 loss 30443922.0\n",
      "epoch 1240 loss 30443922.0\n",
      "epoch 1250 loss 30443922.0\n",
      "epoch 1260 loss 30443922.0\n",
      "epoch 1270 loss 30443922.0\n",
      "epoch 1280 loss 30443922.0\n",
      "epoch 1290 loss 30443922.0\n",
      "epoch 1300 loss 30443922.0\n",
      "epoch 1310 loss 30443922.0\n",
      "epoch 1320 loss 30443922.0\n",
      "epoch 1330 loss 30443922.0\n",
      "epoch 1340 loss 30443922.0\n",
      "epoch 1350 loss 30443920.0\n",
      "epoch 1360 loss 30443922.0\n",
      "epoch 1370 loss 30443922.0\n",
      "epoch 1380 loss 30443922.0\n",
      "epoch 1390 loss 30443922.0\n",
      "epoch 1400 loss 30443922.0\n",
      "epoch 1410 loss 30443922.0\n",
      "epoch 1420 loss 30443924.0\n",
      "epoch 1430 loss 30443922.0\n",
      "epoch 1440 loss 30443922.0\n",
      "epoch 1450 loss 30443922.0\n",
      "epoch 1460 loss 30443922.0\n",
      "epoch 1470 loss 30443922.0\n",
      "epoch 1480 loss 30443920.0\n",
      "epoch 1490 loss 30443922.0\n",
      "epoch 1500 loss 30443922.0\n",
      "epoch 1510 loss 30443922.0\n",
      "epoch 1520 loss 30443922.0\n",
      "epoch 1530 loss 30443922.0\n",
      "epoch 1540 loss 30443922.0\n",
      "epoch 1550 loss 30443922.0\n",
      "epoch 1560 loss 30443924.0\n",
      "epoch 1570 loss 30443924.0\n",
      "epoch 1580 loss 30443922.0\n",
      "epoch 1590 loss 30443922.0\n",
      "epoch 1600 loss 30443922.0\n",
      "epoch 1610 loss 30443922.0\n",
      "epoch 1620 loss 30443922.0\n",
      "epoch 1630 loss 30443922.0\n",
      "epoch 1640 loss 30443922.0\n",
      "epoch 1650 loss 30443922.0\n",
      "epoch 1660 loss 30443922.0\n",
      "epoch 1670 loss 30443922.0\n",
      "epoch 1680 loss 30443922.0\n",
      "epoch 1690 loss 30443922.0\n",
      "epoch 1700 loss 30443922.0\n",
      "epoch 1710 loss 30443922.0\n",
      "epoch 1720 loss 30443922.0\n",
      "epoch 1730 loss 30443922.0\n",
      "epoch 1740 loss 30443922.0\n",
      "epoch 1750 loss 30443922.0\n",
      "epoch 1760 loss 30443922.0\n",
      "epoch 1770 loss 30443922.0\n",
      "epoch 1780 loss 30443922.0\n",
      "epoch 1790 loss 30443922.0\n",
      "epoch 1800 loss 30443922.0\n",
      "epoch 1810 loss 30443924.0\n",
      "epoch 1820 loss 30443922.0\n",
      "epoch 1830 loss 30443922.0\n",
      "epoch 1840 loss 30443922.0\n",
      "epoch 1850 loss 30443922.0\n",
      "epoch 1860 loss 30443922.0\n",
      "epoch 1870 loss 30443922.0\n",
      "epoch 1880 loss 30443922.0\n",
      "epoch 1890 loss 30443922.0\n",
      "epoch 1900 loss 30443922.0\n",
      "epoch 1910 loss 30443922.0\n",
      "epoch 1920 loss 30443922.0\n",
      "epoch 1930 loss 30443922.0\n",
      "epoch 1940 loss 30443922.0\n",
      "epoch 1950 loss 30443922.0\n",
      "epoch 1960 loss 30443922.0\n",
      "epoch 1970 loss 30443922.0\n",
      "epoch 1980 loss 30443922.0\n",
      "epoch 1990 loss 30443922.0\n",
      "epoch 2000 loss 30443922.0\n"
     ]
    }
   ],
   "source": [
    "epochs = 2000\n",
    "lr = 0.01\n",
    "optimizer = optim.Adam(model.parameters(), lr=lr)\n",
    "loss_fn = nn.CrossEntropyLoss()\n",
    "\n",
    "\n",
    "for epoch in range(epochs):\n",
    "    optimizer.zero_grad()  \n",
    "    pred = model.forward(tensor_x)  # compute model predictions\n",
    "    loss = loss_fn(pred.flatten(), tensor_y)\n",
    "    loss.backward()  # compute the gradient wrt loss\n",
    "    optimizer.step()  # performs a step of gradient descent\n",
    "    if (epoch + 1) % 10 == 0:\n",
    "        print('epoch {} loss {}'.format(epoch+1, loss.item()))"
   ]
  },
  {
   "cell_type": "code",
   "execution_count": 179,
   "id": "0c4dc447",
   "metadata": {},
   "outputs": [
    {
     "data": {
      "text/plain": [
       "Sequential(\n",
       "  (0): Linear(in_features=5, out_features=100, bias=True)\n",
       "  (1): ReLU()\n",
       "  (2): Linear(in_features=100, out_features=20, bias=True)\n",
       "  (3): ReLU()\n",
       "  (4): Linear(in_features=20, out_features=1, bias=True)\n",
       ")"
      ]
     },
     "execution_count": 179,
     "metadata": {},
     "output_type": "execute_result"
    }
   ],
   "source": [
    "model.eval()"
   ]
  },
  {
   "cell_type": "code",
   "execution_count": 152,
   "id": "400dadc2",
   "metadata": {},
   "outputs": [],
   "source": [
    "test = pd.read_csv('data/test.csv')\n",
    "\n",
    "yTe = train[\"FVC\"]\n",
    "XTe = train.copy()\n",
    "XTe=XTe.drop(columns = [\"FVC\", \"Patient\"])\n",
    "XTe['Sex'] = XTe['Sex'].map(lambda x: 1 if(x == \"Male\") else 0 )\n",
    "XTe['SmokingStatus'] = XTe['SmokingStatus'].map(lambda x: 1 if(x == \"Ex-smoker\") else 0 )\n",
    "\n",
    "xTe = torch.tensor((XTe['Age'], XTe['Weeks'], XTe['Percent'], XTe['Sex'], XTe['SmokingStatus'])).to(torch.float).T\n",
    "yTe = torch.tensor(yTe).to(torch.float)"
   ]
  },
  {
   "cell_type": "code",
   "execution_count": 153,
   "id": "be61570c",
   "metadata": {},
   "outputs": [
    {
     "name": "stdout",
     "output_type": "stream",
     "text": [
      "loss 693059.75\n"
     ]
    }
   ],
   "source": [
    "loss = nn.MSELoss()\n",
    "\n",
    "loss = (loss(model.forward(xTe).flatten(), yTe))\n",
    "print('loss {}'.format(loss.item()))"
   ]
  },
  {
   "cell_type": "code",
   "execution_count": null,
   "id": "c6c17207",
   "metadata": {},
   "outputs": [],
   "source": []
  },
  {
   "cell_type": "code",
   "execution_count": null,
   "id": "9f2c2c52",
   "metadata": {},
   "outputs": [],
   "source": []
  },
  {
   "cell_type": "code",
   "execution_count": null,
   "id": "3e12e6f9",
   "metadata": {},
   "outputs": [],
   "source": []
  }
 ],
 "metadata": {
  "kernelspec": {
   "display_name": "Python 3 (ipykernel)",
   "language": "python",
   "name": "python3"
  },
  "language_info": {
   "codemirror_mode": {
    "name": "ipython",
    "version": 3
   },
   "file_extension": ".py",
   "mimetype": "text/x-python",
   "name": "python",
   "nbconvert_exporter": "python",
   "pygments_lexer": "ipython3",
   "version": "3.11.0"
  }
 },
 "nbformat": 4,
 "nbformat_minor": 5
}
